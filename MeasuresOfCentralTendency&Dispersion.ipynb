{
 "cells": [
  {
   "cell_type": "code",
   "execution_count": 4,
   "id": "135a89c7",
   "metadata": {},
   "outputs": [],
   "source": [
    "import pandas as pd\n",
    "from scipy import stats\n",
    "import numpy as np\n",
    "import matplotlib.pyplot as plt\n",
    "import statistics "
   ]
  },
  {
   "cell_type": "code",
   "execution_count": 5,
   "id": "71423fac",
   "metadata": {},
   "outputs": [],
   "source": [
    "def Range(df):\n",
    "    max = df[0];\n",
    "    min = df[0];\n",
    "    for i in df:\n",
    "        if i>max:\n",
    "            max = i\n",
    "        elif min>i:\n",
    "            min = i\n",
    "    return max-min\n",
    "\n",
    "def CoeffOfRange(df):\n",
    "    max = df[0];\n",
    "    min = df[0];\n",
    "    for i in df:\n",
    "        if i>max:\n",
    "            max = i\n",
    "        elif min>i:\n",
    "            min = i\n",
    "    return (max-min)/(max+min)\n",
    "\n",
    "def CoeffOfVariance(df):\n",
    "    return (statistics.pstdev(df)/df.mean())*100\n",
    "    \n",
    "def measuresOfCentralTendency(df, newDf):\n",
    "    l= []\n",
    "    l.append(df.mean())\n",
    "    l.append(stats.gmean(df))\n",
    "    l.append(stats.hmean(df))\n",
    "    l.append(df.median())\n",
    "    l.append(float(stats.mode(df).mode))\n",
    "    newDf[df.name] = l\n",
    "    \n",
    "def measuresOfDispersion(df, newDf):\n",
    "    l = []\n",
    "    l.append(Range(df))\n",
    "    l.append(statistics.pstdev(df))\n",
    "    l.append(statistics.pvariance(df))\n",
    "    l.append(CoeffOfRange(df))\n",
    "    l.append(CoeffOfVariance(df))\n",
    "    newDf[df.name] = l\n",
    "    "
   ]
  },
  {
   "cell_type": "code",
   "execution_count": 6,
   "id": "a685401c",
   "metadata": {},
   "outputs": [],
   "source": [
    "df = pd.read_csv('BCS3A.csv')\n",
    "df1 = pd.read_csv('BSE5A.csv')\n",
    "ct3A = pd.DataFrame()\n",
    "ct5A = pd.DataFrame()\n",
    "dp3A = pd.DataFrame()\n",
    "dp5A = pd.DataFrame()"
   ]
  },
  {
   "cell_type": "code",
   "execution_count": 13,
   "id": "d634cd13",
   "metadata": {
    "scrolled": false
   },
   "outputs": [
    {
     "name": "stderr",
     "output_type": "stream",
     "text": [
      "E:\\Anaconda\\lib\\site-packages\\scipy\\stats\\stats.py:275: RuntimeWarning: divide by zero encountered in log\n",
      "  log_a = np.log(np.array(a, dtype=dtype))\n"
     ]
    }
   ],
   "source": [
    "measuresOfCentralTendency(df['Quiz (15)'], ct3A)\n",
    "measuresOfCentralTendency(df['Assignment (10)'], ct3A)\n",
    "measuresOfCentralTendency(df['MidTerm (25)'], ct3A)\n",
    "measuresOfCentralTendency(df['Final (50)'], ct3A)\n",
    "measuresOfCentralTendency(df['Total(100)'], ct3A)"
   ]
  },
  {
   "cell_type": "code",
   "execution_count": 14,
   "id": "a6af219d",
   "metadata": {},
   "outputs": [],
   "source": [
    "measuresOfCentralTendency(df1['Quiz (15)'], ct5A)\n",
    "measuresOfCentralTendency(df1['Assignment (10)'], ct5A)\n",
    "measuresOfCentralTendency(df1['MidTerm (25)'], ct5A)\n",
    "measuresOfCentralTendency(df1['Final (50)'], ct5A)\n",
    "measuresOfCentralTendency(df1['Total(100)'], ct5A)"
   ]
  },
  {
   "cell_type": "code",
   "execution_count": 15,
   "id": "0e4af5f5",
   "metadata": {},
   "outputs": [],
   "source": [
    "measuresOfDispersion(df['Quiz (15)'], dp3A)\n",
    "measuresOfDispersion(df['Assignment (10)'], dp3A)\n",
    "measuresOfDispersion(df['MidTerm (25)'], dp3A)\n",
    "measuresOfDispersion(df['Final (50)'], dp3A)\n",
    "measuresOfDispersion(df['Total(100)'], dp3A)"
   ]
  },
  {
   "cell_type": "code",
   "execution_count": 16,
   "id": "54203da7",
   "metadata": {},
   "outputs": [],
   "source": [
    "measuresOfDispersion(df1['Quiz (15)'], dp5A)\n",
    "measuresOfDispersion(df1['Assignment (10)'], dp5A)\n",
    "measuresOfDispersion(df1['MidTerm (25)'], dp5A)\n",
    "measuresOfDispersion(df1['Final (50)'], dp5A)\n",
    "measuresOfDispersion(df1['Total(100)'], dp5A)"
   ]
  },
  {
   "cell_type": "code",
   "execution_count": 18,
   "id": "ff47d9bd",
   "metadata": {
    "scrolled": false
   },
   "outputs": [],
   "source": [
    "ct3A.index = ['Arithmetic Mean', 'Geometric Mean', 'Harmonic Mean', 'Median', 'Mode']\n",
    "ct5A.index = ['Arithmetic Mean', 'Geometric Mean', 'Harmonic Mean', 'Median', 'Mode']\n",
    "\n",
    "dp5A.index = ['Range', 'Standard Deviation', 'Variance', 'Coeff of Range', 'Coeff of Variance']\n",
    "dp3A.index = ['Range', 'Standard Deviation', 'Variance', 'Coeff of Range', 'Coeff of Variance']"
   ]
  },
  {
   "cell_type": "code",
   "execution_count": 19,
   "id": "f219eb16",
   "metadata": {},
   "outputs": [
    {
     "data": {
      "text/html": [
       "<div>\n",
       "<style scoped>\n",
       "    .dataframe tbody tr th:only-of-type {\n",
       "        vertical-align: middle;\n",
       "    }\n",
       "\n",
       "    .dataframe tbody tr th {\n",
       "        vertical-align: top;\n",
       "    }\n",
       "\n",
       "    .dataframe thead th {\n",
       "        text-align: right;\n",
       "    }\n",
       "</style>\n",
       "<table border=\"1\" class=\"dataframe\">\n",
       "  <thead>\n",
       "    <tr style=\"text-align: right;\">\n",
       "      <th></th>\n",
       "      <th>Quiz (15)</th>\n",
       "      <th>Assignment (10)</th>\n",
       "      <th>MidTerm (25)</th>\n",
       "      <th>Final (50)</th>\n",
       "      <th>Total(100)</th>\n",
       "      <th>GP</th>\n",
       "    </tr>\n",
       "  </thead>\n",
       "  <tbody>\n",
       "    <tr>\n",
       "      <th>Arithmetic Mean</th>\n",
       "      <td>9.636364</td>\n",
       "      <td>8.281818</td>\n",
       "      <td>13.090909</td>\n",
       "      <td>33.245455</td>\n",
       "      <td>64.272727</td>\n",
       "      <td>2.127273</td>\n",
       "    </tr>\n",
       "    <tr>\n",
       "      <th>Geometric Mean</th>\n",
       "      <td>9.605077</td>\n",
       "      <td>8.259031</td>\n",
       "      <td>12.257357</td>\n",
       "      <td>32.020098</td>\n",
       "      <td>63.025255</td>\n",
       "      <td>0.000000</td>\n",
       "    </tr>\n",
       "    <tr>\n",
       "      <th>Harmonic Mean</th>\n",
       "      <td>9.574292</td>\n",
       "      <td>8.234379</td>\n",
       "      <td>11.421131</td>\n",
       "      <td>30.665719</td>\n",
       "      <td>61.760390</td>\n",
       "      <td>0.000000</td>\n",
       "    </tr>\n",
       "    <tr>\n",
       "      <th>Median</th>\n",
       "      <td>9.400000</td>\n",
       "      <td>8.300000</td>\n",
       "      <td>13.000000</td>\n",
       "      <td>31.400000</td>\n",
       "      <td>62.000000</td>\n",
       "      <td>2.000000</td>\n",
       "    </tr>\n",
       "    <tr>\n",
       "      <th>Mode</th>\n",
       "      <td>9.400000</td>\n",
       "      <td>8.000000</td>\n",
       "      <td>9.500000</td>\n",
       "      <td>31.400000</td>\n",
       "      <td>60.000000</td>\n",
       "      <td>2.000000</td>\n",
       "    </tr>\n",
       "  </tbody>\n",
       "</table>\n",
       "</div>"
      ],
      "text/plain": [
       "                 Quiz (15)  Assignment (10)  MidTerm (25)  Final (50)  \\\n",
       "Arithmetic Mean   9.636364         8.281818     13.090909   33.245455   \n",
       "Geometric Mean    9.605077         8.259031     12.257357   32.020098   \n",
       "Harmonic Mean     9.574292         8.234379     11.421131   30.665719   \n",
       "Median            9.400000         8.300000     13.000000   31.400000   \n",
       "Mode              9.400000         8.000000      9.500000   31.400000   \n",
       "\n",
       "                 Total(100)        GP  \n",
       "Arithmetic Mean   64.272727  2.127273  \n",
       "Geometric Mean    63.025255  0.000000  \n",
       "Harmonic Mean     61.760390  0.000000  \n",
       "Median            62.000000  2.000000  \n",
       "Mode              60.000000  2.000000  "
      ]
     },
     "execution_count": 19,
     "metadata": {},
     "output_type": "execute_result"
    }
   ],
   "source": [
    "ct3A"
   ]
  },
  {
   "cell_type": "code",
   "execution_count": 20,
   "id": "46d22739",
   "metadata": {
    "scrolled": true
   },
   "outputs": [
    {
     "data": {
      "text/html": [
       "<div>\n",
       "<style scoped>\n",
       "    .dataframe tbody tr th:only-of-type {\n",
       "        vertical-align: middle;\n",
       "    }\n",
       "\n",
       "    .dataframe tbody tr th {\n",
       "        vertical-align: top;\n",
       "    }\n",
       "\n",
       "    .dataframe thead th {\n",
       "        text-align: right;\n",
       "    }\n",
       "</style>\n",
       "<table border=\"1\" class=\"dataframe\">\n",
       "  <thead>\n",
       "    <tr style=\"text-align: right;\">\n",
       "      <th></th>\n",
       "      <th>Quiz (15)</th>\n",
       "      <th>Assignment (10)</th>\n",
       "      <th>MidTerm (25)</th>\n",
       "      <th>Final (50)</th>\n",
       "      <th>Total(100)</th>\n",
       "      <th>GP</th>\n",
       "    </tr>\n",
       "  </thead>\n",
       "  <tbody>\n",
       "    <tr>\n",
       "      <th>Arithmetic Mean</th>\n",
       "      <td>10.444118</td>\n",
       "      <td>7.938235</td>\n",
       "      <td>15.411765</td>\n",
       "      <td>27.726471</td>\n",
       "      <td>61.617647</td>\n",
       "      <td>1.932353</td>\n",
       "    </tr>\n",
       "    <tr>\n",
       "      <th>Geometric Mean</th>\n",
       "      <td>10.396585</td>\n",
       "      <td>7.833390</td>\n",
       "      <td>14.505836</td>\n",
       "      <td>26.788140</td>\n",
       "      <td>60.421975</td>\n",
       "      <td>0.000000</td>\n",
       "    </tr>\n",
       "    <tr>\n",
       "      <th>Harmonic Mean</th>\n",
       "      <td>10.350664</td>\n",
       "      <td>7.708087</td>\n",
       "      <td>13.553805</td>\n",
       "      <td>25.845576</td>\n",
       "      <td>59.186992</td>\n",
       "      <td>0.000000</td>\n",
       "    </tr>\n",
       "    <tr>\n",
       "      <th>Median</th>\n",
       "      <td>10.100000</td>\n",
       "      <td>8.300000</td>\n",
       "      <td>16.750000</td>\n",
       "      <td>27.100000</td>\n",
       "      <td>61.000000</td>\n",
       "      <td>2.000000</td>\n",
       "    </tr>\n",
       "    <tr>\n",
       "      <th>Mode</th>\n",
       "      <td>10.000000</td>\n",
       "      <td>8.300000</td>\n",
       "      <td>8.000000</td>\n",
       "      <td>25.700000</td>\n",
       "      <td>57.000000</td>\n",
       "      <td>1.700000</td>\n",
       "    </tr>\n",
       "  </tbody>\n",
       "</table>\n",
       "</div>"
      ],
      "text/plain": [
       "                 Quiz (15)  Assignment (10)  MidTerm (25)  Final (50)  \\\n",
       "Arithmetic Mean  10.444118         7.938235     15.411765   27.726471   \n",
       "Geometric Mean   10.396585         7.833390     14.505836   26.788140   \n",
       "Harmonic Mean    10.350664         7.708087     13.553805   25.845576   \n",
       "Median           10.100000         8.300000     16.750000   27.100000   \n",
       "Mode             10.000000         8.300000      8.000000   25.700000   \n",
       "\n",
       "                 Total(100)        GP  \n",
       "Arithmetic Mean   61.617647  1.932353  \n",
       "Geometric Mean    60.421975  0.000000  \n",
       "Harmonic Mean     59.186992  0.000000  \n",
       "Median            61.000000  2.000000  \n",
       "Mode              57.000000  1.700000  "
      ]
     },
     "execution_count": 20,
     "metadata": {},
     "output_type": "execute_result"
    }
   ],
   "source": [
    "ct5A"
   ]
  },
  {
   "cell_type": "code",
   "execution_count": 21,
   "id": "405b5fd1",
   "metadata": {},
   "outputs": [
    {
     "data": {
      "text/html": [
       "<div>\n",
       "<style scoped>\n",
       "    .dataframe tbody tr th:only-of-type {\n",
       "        vertical-align: middle;\n",
       "    }\n",
       "\n",
       "    .dataframe tbody tr th {\n",
       "        vertical-align: top;\n",
       "    }\n",
       "\n",
       "    .dataframe thead th {\n",
       "        text-align: right;\n",
       "    }\n",
       "</style>\n",
       "<table border=\"1\" class=\"dataframe\">\n",
       "  <thead>\n",
       "    <tr style=\"text-align: right;\">\n",
       "      <th></th>\n",
       "      <th>Quiz (15)</th>\n",
       "      <th>Assignment (10)</th>\n",
       "      <th>MidTerm (25)</th>\n",
       "      <th>Final (50)</th>\n",
       "      <th>Total(100)</th>\n",
       "      <th>GP</th>\n",
       "    </tr>\n",
       "  </thead>\n",
       "  <tbody>\n",
       "    <tr>\n",
       "      <th>Range</th>\n",
       "      <td>3.000000</td>\n",
       "      <td>2.800000</td>\n",
       "      <td>16.000000</td>\n",
       "      <td>35.700000</td>\n",
       "      <td>55.000000</td>\n",
       "      <td>4.000000</td>\n",
       "    </tr>\n",
       "    <tr>\n",
       "      <th>Standard Deviation</th>\n",
       "      <td>0.782699</td>\n",
       "      <td>0.592097</td>\n",
       "      <td>4.576711</td>\n",
       "      <td>8.670678</td>\n",
       "      <td>12.640178</td>\n",
       "      <td>0.925488</td>\n",
       "    </tr>\n",
       "    <tr>\n",
       "      <th>Variance</th>\n",
       "      <td>0.612617</td>\n",
       "      <td>0.350579</td>\n",
       "      <td>20.946281</td>\n",
       "      <td>75.180661</td>\n",
       "      <td>159.774105</td>\n",
       "      <td>0.856529</td>\n",
       "    </tr>\n",
       "    <tr>\n",
       "      <th>Coeff of Range</th>\n",
       "      <td>0.153061</td>\n",
       "      <td>0.177215</td>\n",
       "      <td>0.571429</td>\n",
       "      <td>0.555210</td>\n",
       "      <td>0.426357</td>\n",
       "      <td>1.000000</td>\n",
       "    </tr>\n",
       "    <tr>\n",
       "      <th>Coeff of Variance</th>\n",
       "      <td>8.122344</td>\n",
       "      <td>7.149357</td>\n",
       "      <td>34.960985</td>\n",
       "      <td>26.080793</td>\n",
       "      <td>19.666472</td>\n",
       "      <td>43.505869</td>\n",
       "    </tr>\n",
       "  </tbody>\n",
       "</table>\n",
       "</div>"
      ],
      "text/plain": [
       "                    Quiz (15)  Assignment (10)  MidTerm (25)  Final (50)  \\\n",
       "Range                3.000000         2.800000     16.000000   35.700000   \n",
       "Standard Deviation   0.782699         0.592097      4.576711    8.670678   \n",
       "Variance             0.612617         0.350579     20.946281   75.180661   \n",
       "Coeff of Range       0.153061         0.177215      0.571429    0.555210   \n",
       "Coeff of Variance    8.122344         7.149357     34.960985   26.080793   \n",
       "\n",
       "                    Total(100)         GP  \n",
       "Range                55.000000   4.000000  \n",
       "Standard Deviation   12.640178   0.925488  \n",
       "Variance            159.774105   0.856529  \n",
       "Coeff of Range        0.426357   1.000000  \n",
       "Coeff of Variance    19.666472  43.505869  "
      ]
     },
     "execution_count": 21,
     "metadata": {},
     "output_type": "execute_result"
    }
   ],
   "source": [
    "dp3A"
   ]
  },
  {
   "cell_type": "code",
   "execution_count": 22,
   "id": "5ff522f4",
   "metadata": {},
   "outputs": [
    {
     "data": {
      "text/html": [
       "<div>\n",
       "<style scoped>\n",
       "    .dataframe tbody tr th:only-of-type {\n",
       "        vertical-align: middle;\n",
       "    }\n",
       "\n",
       "    .dataframe tbody tr th {\n",
       "        vertical-align: top;\n",
       "    }\n",
       "\n",
       "    .dataframe thead th {\n",
       "        text-align: right;\n",
       "    }\n",
       "</style>\n",
       "<table border=\"1\" class=\"dataframe\">\n",
       "  <thead>\n",
       "    <tr style=\"text-align: right;\">\n",
       "      <th></th>\n",
       "      <th>Quiz (15)</th>\n",
       "      <th>Assignment (10)</th>\n",
       "      <th>MidTerm (25)</th>\n",
       "      <th>Final (50)</th>\n",
       "      <th>Total(100)</th>\n",
       "      <th>GP</th>\n",
       "    </tr>\n",
       "  </thead>\n",
       "  <tbody>\n",
       "    <tr>\n",
       "      <th>Range</th>\n",
       "      <td>3.700000</td>\n",
       "      <td>4.700000</td>\n",
       "      <td>16.500000</td>\n",
       "      <td>35.700000</td>\n",
       "      <td>50.000000</td>\n",
       "      <td>4.000000</td>\n",
       "    </tr>\n",
       "    <tr>\n",
       "      <th>Standard Deviation</th>\n",
       "      <td>1.012624</td>\n",
       "      <td>1.177489</td>\n",
       "      <td>5.034397</td>\n",
       "      <td>7.313819</td>\n",
       "      <td>11.997585</td>\n",
       "      <td>0.925488</td>\n",
       "    </tr>\n",
       "    <tr>\n",
       "      <th>Variance</th>\n",
       "      <td>1.025407</td>\n",
       "      <td>1.386479</td>\n",
       "      <td>25.345156</td>\n",
       "      <td>53.491946</td>\n",
       "      <td>143.942042</td>\n",
       "      <td>0.856529</td>\n",
       "    </tr>\n",
       "    <tr>\n",
       "      <th>Coeff of Range</th>\n",
       "      <td>0.167421</td>\n",
       "      <td>0.319728</td>\n",
       "      <td>0.523810</td>\n",
       "      <td>0.555210</td>\n",
       "      <td>0.396825</td>\n",
       "      <td>1.000000</td>\n",
       "    </tr>\n",
       "    <tr>\n",
       "      <th>Coeff of Variance</th>\n",
       "      <td>9.695636</td>\n",
       "      <td>14.833127</td>\n",
       "      <td>32.665936</td>\n",
       "      <td>26.378470</td>\n",
       "      <td>19.471021</td>\n",
       "      <td>43.505869</td>\n",
       "    </tr>\n",
       "  </tbody>\n",
       "</table>\n",
       "</div>"
      ],
      "text/plain": [
       "                    Quiz (15)  Assignment (10)  MidTerm (25)  Final (50)  \\\n",
       "Range                3.700000         4.700000     16.500000   35.700000   \n",
       "Standard Deviation   1.012624         1.177489      5.034397    7.313819   \n",
       "Variance             1.025407         1.386479     25.345156   53.491946   \n",
       "Coeff of Range       0.167421         0.319728      0.523810    0.555210   \n",
       "Coeff of Variance    9.695636        14.833127     32.665936   26.378470   \n",
       "\n",
       "                    Total(100)         GP  \n",
       "Range                50.000000   4.000000  \n",
       "Standard Deviation   11.997585   0.925488  \n",
       "Variance            143.942042   0.856529  \n",
       "Coeff of Range        0.396825   1.000000  \n",
       "Coeff of Variance    19.471021  43.505869  "
      ]
     },
     "execution_count": 22,
     "metadata": {},
     "output_type": "execute_result"
    }
   ],
   "source": [
    "dp5A"
   ]
  },
  {
   "cell_type": "code",
   "execution_count": 23,
   "id": "77693bd4",
   "metadata": {},
   "outputs": [
    {
     "data": {
      "text/plain": [
       "<matplotlib.legend.Legend at 0x207a7573340>"
      ]
     },
     "execution_count": 23,
     "metadata": {},
     "output_type": "execute_result"
    },
    {
     "data": {
      "image/png": "[encoded data removed]",
      "text/plain": [
       "<Figure size 432x288 with 1 Axes>"
      ]
     },
     "metadata": {
      "needs_background": "light"
     },
     "output_type": "display_data"
    }
   ],
   "source": [
    "plt.bar(ct3A.iloc[0], 5, label='Arithmetic Mean BCS3A')\n",
    "plt.bar(ct5A.iloc[0], 5,label='Arithmetic Mean BSE5A')\n",
    "plt.legend(loc='best')"
   ]
  },
  {
   "cell_type": "code",
   "execution_count": 24,
   "id": "4faf62b7",
   "metadata": {},
   "outputs": [
    {
     "data": {
      "text/plain": [
       "<matplotlib.legend.Legend at 0x207a76a7d90>"
      ]
     },
     "execution_count": 24,
     "metadata": {},
     "output_type": "execute_result"
    },
    {
     "data": {
      "image/png": "[encoded data removed]",
      "text/plain": [
       "<Figure size 432x288 with 1 Axes>"
      ]
     },
     "metadata": {
      "needs_background": "light"
     },
     "output_type": "display_data"
    }
   ],
   "source": [
    "plt.bar(ct3A.iloc[1], 5, label='Geometric Mean BCS3A')\n",
    "plt.bar(ct5A.iloc[1], 5, label='Geometric Mean BSE5A')\n",
    "plt.legend(loc='best')"
   ]
  },
  {
   "cell_type": "code",
   "execution_count": 25,
   "id": "c70771fe",
   "metadata": {},
   "outputs": [
    {
     "data": {
      "text/plain": [
       "<matplotlib.legend.Legend at 0x207a772b7c0>"
      ]
     },
     "execution_count": 25,
     "metadata": {},
     "output_type": "execute_result"
    },
    {
     "data": {
      "image/png": "[encoded data removed]",
      "text/plain": [
       "<Figure size 432x288 with 1 Axes>"
      ]
     },
     "metadata": {
      "needs_background": "light"
     },
     "output_type": "display_data"
    }
   ],
   "source": [
    "plt.bar(ct3A.iloc[2], 5, label='Harmonic Mean BCS3A')\n",
    "plt.bar(ct5A.iloc[2], 5, label='Harmonic Mean BSE5A')\n",
    "plt.legend(loc='best')"
   ]
  },
  {
   "cell_type": "code",
   "execution_count": 26,
   "id": "0ad87c64",
   "metadata": {},
   "outputs": [
    {
     "data": {
      "text/plain": [
       "<matplotlib.legend.Legend at 0x207a77fe040>"
      ]
     },
     "execution_count": 26,
     "metadata": {},
     "output_type": "execute_result"
    },
    {
     "data": {
      "image/png": "[encoded data removed]",
      "text/plain": [
       "<Figure size 432x288 with 1 Axes>"
      ]
     },
     "metadata": {
      "needs_background": "light"
     },
     "output_type": "display_data"
    }
   ],
   "source": [
    "plt.bar(ct3A.iloc[3], 5, label='Median BCS3A')\n",
    "plt.bar(ct5A.iloc[3], 5, label='Median BSE5A')\n",
    "plt.legend(loc='best')"
   ]
  },
  {
   "cell_type": "code",
   "execution_count": 27,
   "id": "65e9fde3",
   "metadata": {
    "scrolled": true
   },
   "outputs": [
    {
     "data": {
      "text/plain": [
       "<matplotlib.legend.Legend at 0x207a7831670>"
      ]
     },
     "execution_count": 27,
     "metadata": {},
     "output_type": "execute_result"
    },
    {
     "data": {
      "image/png": "[encoded data removed]",
      "text/plain": [
       "<Figure size 432x288 with 1 Axes>"
      ]
     },
     "metadata": {
      "needs_background": "light"
     },
     "output_type": "display_data"
    }
   ],
   "source": [
    "plt.bar(ct3A.iloc[4], 5, label='Mode BCS3A')\n",
    "plt.bar(ct5A.iloc[4], 5, label='Mode BSE5A')\n",
    "plt.legend(loc='best')"
   ]
  },
  {
   "cell_type": "code",
   "execution_count": null,
   "id": "cf20a404",
   "metadata": {},
   "outputs": [],
   "source": []
  }
 ],
 "metadata": {
  "kernelspec": {
   "display_name": "Python 3 (ipykernel)",
   "language": "python",
   "name": "python3"
  },
  "language_info": {
   "codemirror_mode": {
    "name": "ipython",
    "version": 3
   },
   "file_extension": ".py",
   "mimetype": "text/x-python",
   "name": "python",
   "nbconvert_exporter": "python",
   "pygments_lexer": "ipython3",
   "version": "3.9.7"
  }
 },
 "nbformat": 4,
 "nbformat_minor": 5
}
