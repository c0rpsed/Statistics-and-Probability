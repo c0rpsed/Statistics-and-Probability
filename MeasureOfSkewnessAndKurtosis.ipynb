{
 "cells": [
  {
   "cell_type": "code",
   "execution_count": 3,
   "id": "56c02370",
   "metadata": {},
   "outputs": [],
   "source": [
    "import pandas as pd"
   ]
  },
  {
   "cell_type": "code",
   "execution_count": 4,
   "id": "eecdb315",
   "metadata": {},
   "outputs": [
    {
     "data": {
      "text/html": [
       "<div>\n",
       "<style scoped>\n",
       "    .dataframe tbody tr th:only-of-type {\n",
       "        vertical-align: middle;\n",
       "    }\n",
       "\n",
       "    .dataframe tbody tr th {\n",
       "        vertical-align: top;\n",
       "    }\n",
       "\n",
       "    .dataframe thead th {\n",
       "        text-align: right;\n",
       "    }\n",
       "</style>\n",
       "<table border=\"1\" class=\"dataframe\">\n",
       "  <thead>\n",
       "    <tr style=\"text-align: right;\">\n",
       "      <th></th>\n",
       "      <th>BCS3A</th>\n",
       "    </tr>\n",
       "  </thead>\n",
       "  <tbody>\n",
       "    <tr>\n",
       "      <th>Quiz (15)</th>\n",
       "      <td>0.428955</td>\n",
       "    </tr>\n",
       "    <tr>\n",
       "      <th>Assignment (10)</th>\n",
       "      <td>-1.348622</td>\n",
       "    </tr>\n",
       "    <tr>\n",
       "      <th>MidTerm (25)</th>\n",
       "      <td>0.221333</td>\n",
       "    </tr>\n",
       "    <tr>\n",
       "      <th>Final (50)</th>\n",
       "      <td>0.037214</td>\n",
       "    </tr>\n",
       "    <tr>\n",
       "      <th>Total(100)</th>\n",
       "      <td>0.336950</td>\n",
       "    </tr>\n",
       "    <tr>\n",
       "      <th>GP</th>\n",
       "      <td>-0.048579</td>\n",
       "    </tr>\n",
       "  </tbody>\n",
       "</table>\n",
       "</div>"
      ],
      "text/plain": [
       "                    BCS3A\n",
       "Quiz (15)        0.428955\n",
       "Assignment (10) -1.348622\n",
       "MidTerm (25)     0.221333\n",
       "Final (50)       0.037214\n",
       "Total(100)       0.336950\n",
       "GP              -0.048579"
      ]
     },
     "execution_count": 4,
     "metadata": {},
     "output_type": "execute_result"
    }
   ],
   "source": [
    "BCS3A = pd.read_csv('BCS3A.csv')\n",
    "BSE5A = pd.read_csv('BSE5A.csv')\n",
    "\n",
    "BCS3A = BCS3A.drop(['S,NO', 'LG'], axis = 1)\n",
    "BSE5A = BSE5A.drop(['S,NO', 'LG'], axis = 1)\n",
    "pd.DataFrame(BCS3A.skew(axis = 0), columns = ['BCS3A'])"
   ]
  },
  {
   "cell_type": "code",
   "execution_count": 7,
   "id": "9a5c5537",
   "metadata": {},
   "outputs": [
    {
     "data": {
      "text/html": [
       "<div>\n",
       "<style scoped>\n",
       "    .dataframe tbody tr th:only-of-type {\n",
       "        vertical-align: middle;\n",
       "    }\n",
       "\n",
       "    .dataframe tbody tr th {\n",
       "        vertical-align: top;\n",
       "    }\n",
       "\n",
       "    .dataframe thead th {\n",
       "        text-align: right;\n",
       "    }\n",
       "</style>\n",
       "<table border=\"1\" class=\"dataframe\">\n",
       "  <thead>\n",
       "    <tr style=\"text-align: right;\">\n",
       "      <th></th>\n",
       "      <th>BSE5A</th>\n",
       "    </tr>\n",
       "  </thead>\n",
       "  <tbody>\n",
       "    <tr>\n",
       "      <th>Quiz (15)</th>\n",
       "      <td>0.644344</td>\n",
       "    </tr>\n",
       "    <tr>\n",
       "      <th>Assignment (10)</th>\n",
       "      <td>-1.532524</td>\n",
       "    </tr>\n",
       "    <tr>\n",
       "      <th>MidTerm (25)</th>\n",
       "      <td>-0.091173</td>\n",
       "    </tr>\n",
       "    <tr>\n",
       "      <th>Final (50)</th>\n",
       "      <td>0.782847</td>\n",
       "    </tr>\n",
       "    <tr>\n",
       "      <th>Total(100)</th>\n",
       "      <td>0.187697</td>\n",
       "    </tr>\n",
       "    <tr>\n",
       "      <th>GP</th>\n",
       "      <td>-0.249978</td>\n",
       "    </tr>\n",
       "  </tbody>\n",
       "</table>\n",
       "</div>"
      ],
      "text/plain": [
       "                    BSE5A\n",
       "Quiz (15)        0.644344\n",
       "Assignment (10) -1.532524\n",
       "MidTerm (25)    -0.091173\n",
       "Final (50)       0.782847\n",
       "Total(100)       0.187697\n",
       "GP              -0.249978"
      ]
     },
     "execution_count": 7,
     "metadata": {},
     "output_type": "execute_result"
    }
   ],
   "source": [
    "pd.DataFrame(BSE5A.skew(axis = 0), columns = ['BSE5A'])"
   ]
  },
  {
   "cell_type": "code",
   "execution_count": 5,
   "id": "bdc06823",
   "metadata": {},
   "outputs": [
    {
     "data": {
      "text/html": [
       "<div>\n",
       "<style scoped>\n",
       "    .dataframe tbody tr th:only-of-type {\n",
       "        vertical-align: middle;\n",
       "    }\n",
       "\n",
       "    .dataframe tbody tr th {\n",
       "        vertical-align: top;\n",
       "    }\n",
       "\n",
       "    .dataframe thead th {\n",
       "        text-align: right;\n",
       "    }\n",
       "</style>\n",
       "<table border=\"1\" class=\"dataframe\">\n",
       "  <thead>\n",
       "    <tr style=\"text-align: right;\">\n",
       "      <th></th>\n",
       "      <th>BCS3A</th>\n",
       "    </tr>\n",
       "  </thead>\n",
       "  <tbody>\n",
       "    <tr>\n",
       "      <th>Quiz (15)</th>\n",
       "      <td>-0.326871</td>\n",
       "    </tr>\n",
       "    <tr>\n",
       "      <th>Assignment (10)</th>\n",
       "      <td>3.204162</td>\n",
       "    </tr>\n",
       "    <tr>\n",
       "      <th>MidTerm (25)</th>\n",
       "      <td>-1.021725</td>\n",
       "    </tr>\n",
       "    <tr>\n",
       "      <th>Final (50)</th>\n",
       "      <td>-0.213971</td>\n",
       "    </tr>\n",
       "    <tr>\n",
       "      <th>Total(100)</th>\n",
       "      <td>0.007439</td>\n",
       "    </tr>\n",
       "    <tr>\n",
       "      <th>GP</th>\n",
       "      <td>0.532765</td>\n",
       "    </tr>\n",
       "  </tbody>\n",
       "</table>\n",
       "</div>"
      ],
      "text/plain": [
       "                    BCS3A\n",
       "Quiz (15)       -0.326871\n",
       "Assignment (10)  3.204162\n",
       "MidTerm (25)    -1.021725\n",
       "Final (50)      -0.213971\n",
       "Total(100)       0.007439\n",
       "GP               0.532765"
      ]
     },
     "execution_count": 5,
     "metadata": {},
     "output_type": "execute_result"
    }
   ],
   "source": [
    "pd.DataFrame(BCS3A.kurtosis(axis = 0), columns = ['BCS3A'])"
   ]
  },
  {
   "cell_type": "code",
   "execution_count": 6,
   "id": "4d3c2968",
   "metadata": {},
   "outputs": [
    {
     "data": {
      "text/html": [
       "<div>\n",
       "<style scoped>\n",
       "    .dataframe tbody tr th:only-of-type {\n",
       "        vertical-align: middle;\n",
       "    }\n",
       "\n",
       "    .dataframe tbody tr th {\n",
       "        vertical-align: top;\n",
       "    }\n",
       "\n",
       "    .dataframe thead th {\n",
       "        text-align: right;\n",
       "    }\n",
       "</style>\n",
       "<table border=\"1\" class=\"dataframe\">\n",
       "  <thead>\n",
       "    <tr style=\"text-align: right;\">\n",
       "      <th></th>\n",
       "      <th>BSE5A</th>\n",
       "    </tr>\n",
       "  </thead>\n",
       "  <tbody>\n",
       "    <tr>\n",
       "      <th>Quiz (15)</th>\n",
       "      <td>-0.504946</td>\n",
       "    </tr>\n",
       "    <tr>\n",
       "      <th>Assignment (10)</th>\n",
       "      <td>1.656938</td>\n",
       "    </tr>\n",
       "    <tr>\n",
       "      <th>MidTerm (25)</th>\n",
       "      <td>-1.180353</td>\n",
       "    </tr>\n",
       "    <tr>\n",
       "      <th>Final (50)</th>\n",
       "      <td>1.556739</td>\n",
       "    </tr>\n",
       "    <tr>\n",
       "      <th>Total(100)</th>\n",
       "      <td>0.069315</td>\n",
       "    </tr>\n",
       "    <tr>\n",
       "      <th>GP</th>\n",
       "      <td>0.564364</td>\n",
       "    </tr>\n",
       "  </tbody>\n",
       "</table>\n",
       "</div>"
      ],
      "text/plain": [
       "                    BSE5A\n",
       "Quiz (15)       -0.504946\n",
       "Assignment (10)  1.656938\n",
       "MidTerm (25)    -1.180353\n",
       "Final (50)       1.556739\n",
       "Total(100)       0.069315\n",
       "GP               0.564364"
      ]
     },
     "execution_count": 6,
     "metadata": {},
     "output_type": "execute_result"
    }
   ],
   "source": [
    "pd.DataFrame(BSE5A.kurtosis(axis = 0), columns = ['BSE5A'])"
   ]
  },
  {
   "cell_type": "code",
   "execution_count": null,
   "id": "0ff24976",
   "metadata": {},
   "outputs": [],
   "source": []
  }
 ],
 "metadata": {
  "kernelspec": {
   "display_name": "Python 3 (ipykernel)",
   "language": "python",
   "name": "python3"
  },
  "language_info": {
   "codemirror_mode": {
    "name": "ipython",
    "version": 3
   },
   "file_extension": ".py",
   "mimetype": "text/x-python",
   "name": "python",
   "nbconvert_exporter": "python",
   "pygments_lexer": "ipython3",
   "version": "3.9.7"
  }
 },
 "nbformat": 4,
 "nbformat_minor": 5
}
